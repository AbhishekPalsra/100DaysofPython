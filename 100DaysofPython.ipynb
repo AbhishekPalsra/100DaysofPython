{
  "nbformat": 4,
  "nbformat_minor": 0,
  "metadata": {
    "colab": {
      "provenance": [],
      "toc_visible": true,
      "authorship_tag": "ABX9TyPSKlB+xWJPNBlFic1wvUWa",
      "include_colab_link": true
    },
    "kernelspec": {
      "name": "python3",
      "display_name": "Python 3"
    },
    "language_info": {
      "name": "python"
    }
  },
  "cells": [
    {
      "cell_type": "markdown",
      "metadata": {
        "id": "view-in-github",
        "colab_type": "text"
      },
      "source": [
        "<a href=\"https://colab.research.google.com/github/AbhishekPalsra/100DaysofPython/blob/master/100DaysofPython.ipynb\" target=\"_parent\"><img src=\"https://colab.research.google.com/assets/colab-badge.svg\" alt=\"Open In Colab\"/></a>"
      ]
    },
    {
      "cell_type": "markdown",
      "source": [
        "# Day4"
      ],
      "metadata": {
        "id": "zWKIq1u-cAcJ"
      }
    },
    {
      "cell_type": "code",
      "source": [
        "str_inp=\"hello,from,python\"\n",
        "op=str_inp.split(\",\") #str into list\n",
        "print(op)"
      ],
      "metadata": {
        "colab": {
          "base_uri": "https://localhost:8080/"
        },
        "id": "_0N3qu_DdV6z",
        "outputId": "e453271c-4a75-490c-cf3c-7508fb66da9e"
      },
      "execution_count": null,
      "outputs": [
        {
          "output_type": "stream",
          "name": "stdout",
          "text": [
            "['hello', 'from', 'python']\n"
          ]
        }
      ]
    },
    {
      "cell_type": "markdown",
      "source": [
        "who will pay the bill?"
      ],
      "metadata": {
        "id": "fNCBu5EBeQby"
      }
    },
    {
      "cell_type": "code",
      "source": [
        "import random\n",
        "input_string=input(\"please enter names using ,\")\n",
        "op_list=input_string.split(\", \")\n",
        "print(op_list)\n",
        "#randomization\n",
        "index=random.randint(0,len(op_list)-1)\n",
        "print(f\" {op_list[index]} will pay the bill\")"
      ],
      "metadata": {
        "colab": {
          "base_uri": "https://localhost:8080/"
        },
        "id": "uyt6Wox_eViq",
        "outputId": "55566f96-8157-4d0e-8d00-9ca5bc57fc8e"
      },
      "execution_count": null,
      "outputs": [
        {
          "output_type": "stream",
          "name": "stdout",
          "text": [
            "please enter names using , abhishek, palsra, anusja, mitra, dfghm, fgh\n",
            "[' abhishek', 'palsra', 'anusja', 'mitra', 'dfghm', 'fgh']\n",
            " palsra will pay the bill\n"
          ]
        }
      ]
    },
    {
      "cell_type": "code",
      "source": [
        "# choice fun  randonly choose one item from the op_list\n",
        "name=random.choice(op_list)\n",
        "print(name)"
      ],
      "metadata": {
        "colab": {
          "base_uri": "https://localhost:8080/"
        },
        "id": "ZugTRQsbgWb5",
        "outputId": "9a73405a-4366-468a-d0df-93d70b824fa1"
      },
      "execution_count": null,
      "outputs": [
        {
          "output_type": "stream",
          "name": "stdout",
          "text": [
            "mitra\n"
          ]
        }
      ]
    },
    {
      "cell_type": "code",
      "source": [
        "fruits=[\"apple\",\"grapes\",\"orange\"]\n",
        "vegetable=[\"spinach\",\"cirruander\"]\n",
        "overall_list=[fruits,vegetable] # combine 2 list ... nested list\n",
        "print(overall_list)\n",
        "print(overall_list[0])\n",
        "print(overall_list[0][1])\n",
        "\n"
      ],
      "metadata": {
        "colab": {
          "base_uri": "https://localhost:8080/"
        },
        "id": "2wc3oc8Gih2S",
        "outputId": "35f2a4e5-f7bb-4c7c-ac68-75f4302c7442"
      },
      "execution_count": null,
      "outputs": [
        {
          "output_type": "stream",
          "name": "stdout",
          "text": [
            "[['apple', 'grapes', 'orange'], ['spinach', 'cirruander']]\n",
            "['apple', 'grapes', 'orange']\n",
            "grapes\n"
          ]
        }
      ]
    },
    {
      "cell_type": "code",
      "source": [
        "#put treasure \n",
        "row1=[\" \",\" \",\" \"]\n",
        "row2=[\" \",\" \",\" \"]\n",
        "row3=[\" \",\" \",\" \"]\n",
        "map=[row1,row2,row3]\n",
        "print(f\"{row1}\\n{row2}\\n{row3}\\n\")\n",
        "position=input(\"where you want to put the treasure\") # position is a atring\n",
        "a= int(position[0])-1\n",
        "b=int(position[1])-1\n",
        "map[a][b]='X'\n",
        "print(f\"{row1}\\n{row2}\\n{row3}\\n\")\n",
        "\n",
        "\n",
        "\n",
        "\n"
      ],
      "metadata": {
        "colab": {
          "base_uri": "https://localhost:8080/"
        },
        "id": "KsmTi6RzRDQ9",
        "outputId": "e599b4a1-9b60-4eaf-df4b-d2fbc87d13ed"
      },
      "execution_count": null,
      "outputs": [
        {
          "output_type": "stream",
          "name": "stdout",
          "text": [
            "[' ', ' ', ' ']\n",
            "[' ', ' ', ' ']\n",
            "[' ', ' ', ' ']\n",
            "\n",
            "where you want to put the treasure31\n",
            "[' ', ' ', ' ']\n",
            "[' ', ' ', ' ']\n",
            "['X', ' ', ' ']\n",
            "\n"
          ]
        }
      ]
    },
    {
      "cell_type": "markdown",
      "source": [
        "project Rock Paper Scisoors"
      ],
      "metadata": {
        "id": "2f9aZqTQ5jKz"
      }
    },
    {
      "cell_type": "code",
      "source": [
        "import random\n",
        "rock='''                       _____\n",
        "        \\                              /\\| | | |\n",
        "         \\                            / /|_|_|_|\n",
        "          \\                           \\        |\n",
        "            (  ( ) ) ( )  )            \\_______/\n",
        "           ( ( ( ( )  )  ) )           /______/\n",
        "          ( ( )) ) (   ) ( ( )        /       /\n",
        "          ( (__.-.___.-.__) )        /       /\n",
        "           /---._.---._.---\\        /       /\n",
        "           \\||   '/  '   ||/       /       /\n",
        "            |||  (_     |||       /       /\n",
        "             || ///\\\\\\  ||\\______/       /\n",
        "        ___/ ||||\\__/|||||/             /\n",
        "       /   \\   ||||||||  /             /\n",
        "      /     \\   ||||||  /        _____/ '''\n",
        "sicssors='''\n",
        "   _       ,/'\n",
        "  (_).  ,/'\n",
        "   _  ::\n",
        "  (_)'  `\\.\n",
        "           `\\.'''\n",
        "paper='''\n",
        "                      .\n",
        "                     /|\\\n",
        "                    / |)\\\n",
        "                   /  I( \\\n",
        "    ,._           /   I`) \\\n",
        "  /'\\  `~.       /    | (  \\\n",
        " /  _\\    '.    /     | `)  \\\n",
        "/,-'  \\     `. /      I  )   \\/`-..\n",
        "       \\      /       |  )    \\    `;-,.._\n",
        "        \\    /        I  )     \\           ``-.._\n",
        "         \\  /         I.)'      \\                ``\"..\n",
        "          \\/          |J_,,..__.,\\.,.__..,,._,,,._,,._`;-,..\n",
        "           \\     _,.;'\n",
        "            \\_,- '''\n",
        "\n",
        "user=int(input(\"what would you like to choose? Type 0 for rock  1 for paper 2 for scissors\"))\n",
        "computer=random.randint(0,2)\n",
        "if user==computer:\n",
        "  print(\"Draw!Please choose again\")\n",
        "\n",
        "   \n",
        "\n"
      ],
      "metadata": {
        "id": "SrBskw9SUTeK"
      },
      "execution_count": null,
      "outputs": []
    },
    {
      "cell_type": "markdown",
      "source": [
        "# Day 5\n"
      ],
      "metadata": {
        "id": "Kcq-NfUF41fX"
      }
    },
    {
      "cell_type": "code",
      "source": [
        " #loops in list\n",
        " fruits=[\"hi\",\"xdf\",\"fvbn\"]\n",
        " for x in fruits:\n",
        "   print(x)\n",
        "   print(x+\" pie\")\n"
      ],
      "metadata": {
        "colab": {
          "base_uri": "https://localhost:8080/"
        },
        "id": "AyBr1Iuo46Fn",
        "outputId": "ec7b8a9b-9cd5-4367-d63a-a7b408f9e853"
      },
      "execution_count": null,
      "outputs": [
        {
          "output_type": "stream",
          "name": "stdout",
          "text": [
            "hi\n",
            "hi pie\n",
            "xdf\n",
            "xdf pie\n",
            "fvbn\n",
            "fvbn pie\n"
          ]
        }
      ]
    },
    {
      "cell_type": "code",
      "source": [
        "height_list=[15,567,456,56,567,5678,567,898,89876]\n",
        "sum=0\n",
        "for x in height_list:\n",
        "  sum+=x\n",
        "print(sum/len(height_list))\n",
        "#len() -- return size\n"
      ],
      "metadata": {
        "colab": {
          "base_uri": "https://localhost:8080/"
        },
        "id": "gcJU6tpF_syR",
        "outputId": "7daa41c5-87ac-4b9d-ae89-782a9ee92bde"
      },
      "execution_count": null,
      "outputs": [
        {
          "output_type": "stream",
          "name": "stdout",
          "text": [
            "10964.444444444445\n"
          ]
        }
      ]
    },
    {
      "cell_type": "code",
      "source": [
        "#highest score\n",
        "height_list=[15,567,456,56,567,777777,5678,567,898,89876]\n",
        "temp=height_list[0]\n",
        "for x in height_list:\n",
        "  if x>temp:\n",
        "    temp=x\n",
        "print(f\"HIghest hight is {temp}\") \n",
        "print(max(height_list))\n",
        "print(min(height_list))\n"
      ],
      "metadata": {
        "id": "1milQIQHBLtc"
      },
      "execution_count": null,
      "outputs": []
    },
    {
      "cell_type": "code",
      "source": [
        "# iterative for loop with range\n",
        "for x in range(0,8):\n",
        "  x+=1\n",
        "  print(x)\n",
        "\n",
        "for x in range(0,10,2): #3rd parametrs is the no of steps ahead\n",
        "  print(x)\n",
        "sum=0\n",
        "for x in range(1,101): # similar to for loop in c++ i<n\n",
        "  sum+=x\n",
        "print(sum)\n",
        "sum=0\n",
        "for x in range(0,101,2):\n",
        "  sum+=x\n",
        "print(sum)"
      ],
      "metadata": {
        "id": "GtmD46f4ClQV"
      },
      "execution_count": null,
      "outputs": []
    },
    {
      "cell_type": "code",
      "source": [
        "for x in range(1,101):\n",
        "  if x%3==0 and x%5==0:\n",
        "    print(\"Fizzbuzz\")\n",
        "  elif x%3==0:\n",
        "    print(\"Fizz\")\n",
        "  elif x%5==0:\n",
        "    print(\"Buzz\")\n",
        "  else:\n",
        "    print(x)"
      ],
      "metadata": {
        "id": "RDS0z-VYEz0f"
      },
      "execution_count": null,
      "outputs": []
    },
    {
      "cell_type": "code",
      "source": [
        "import random\n",
        "#easy version\n",
        "alphabets=['a','b','c','d','e','f','g','h','i','j','k','l','m','n','o','p','q','r','s','t','u','v','w','x','y','z','A','B','C','D','E','F','G','H','I','J','K','L','M','N','O','P','Q','R','S','T','U','V','W','X','Y','Z']\n",
        "digits=['1','2','3','4','5','6','7','8','9','0']\n",
        "symbols=['!','@','#','$','%','^','&','*','(',')','+']\n",
        "print(\"welcome to password generator\")\n",
        "nr_letter=int(input(\"HOw many letts u want\\n\"))\n",
        "nr_symbols=int(input(\"How many symbols you want\\n\"))\n",
        "nr_digits=int(input(\"HOw many numbers you would like?\\n\"))\n",
        "password=\"\";\n",
        "for x in range(1,nr_letter+1): #exclude last\n",
        "  random_number=random.randint(0,len(alphabets)-1) #include last\n",
        "  password=password+alphabets[random_number]\n",
        "\n",
        "for x in range(1,nr_digits+1):\n",
        "  random_number=random.randint(0,len(digits)-1)\n",
        "  password=password+digits[random_number]\n",
        "\n",
        "for x in range(1,nr_symbols+1):\n",
        "  random_number=random.randint(0,len(symbols)-1)\n",
        "  password=password+symbols[random_number]\n",
        "\n",
        "print(password)\n",
        "\n",
        "\n",
        "\n",
        "\n",
        "\n",
        "\n"
      ],
      "metadata": {
        "id": "SNL-A6ZqIdl9"
      },
      "execution_count": null,
      "outputs": []
    },
    {
      "cell_type": "code",
      "source": [
        "import random\n",
        "#diff version\n",
        "alphabets=['a','b','c','d','e','f','g','h','i','j','k','l','m','n','o','p','q','r','s','t','u','v','w','x','y','z','A','B','C','D','E','F','G','H','I','J','K','L','M','N','O','P','Q','R','S','T','U','V','W','X','Y','Z']\n",
        "digits=['1','2','3','4','5','6','7','8','9','0']\n",
        "symbols=['!','@','#','$','%','^','&','*','(',')','+']\n",
        "print(\"welcome to password generator\")\n",
        "nr_letter=int(input(\"HOw many letts u want\\n\"))\n",
        "nr_symbols=int(input(\"How many symbols you want\\n\"))\n",
        "nr_digits=int(input(\"HOw many numbers you would like?\\n\"))\n",
        "password=[]\n",
        "for x in range(1,nr_letter+1):\n",
        "  password.append(random.choice(alphabets))\n",
        "for x in range(1,nr_digits+1):\n",
        "  password.append(random.choice(digits))\n",
        "for x in range(1,nr_symbols+1):\n",
        "  password.append(random.choice(symbols))\n",
        "print(password)\n",
        "random.shuffle(password)\n",
        "print(password)\n",
        "string_password=\"\"\n",
        "for x in password:\n",
        "   string_password+=x\n",
        "print(f\"Your password is {string_password}\")\n",
        "\n"
      ],
      "metadata": {
        "id": "kcDWidaEdHiK"
      },
      "execution_count": null,
      "outputs": []
    },
    {
      "cell_type": "markdown",
      "source": [],
      "metadata": {
        "id": "zKTKh4sEIdYK"
      }
    }
  ]
}